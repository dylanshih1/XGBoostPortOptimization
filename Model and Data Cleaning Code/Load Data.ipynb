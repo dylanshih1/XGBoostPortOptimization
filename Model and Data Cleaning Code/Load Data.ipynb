{
 "cells": [
  {
   "cell_type": "code",
   "execution_count": 9,
   "id": "7773c3c8",
   "metadata": {},
   "outputs": [],
   "source": [
    "import pandas as pd"
   ]
  },
  {
   "cell_type": "code",
   "execution_count": 10,
   "id": "697b9e06",
   "metadata": {},
   "outputs": [],
   "source": [
    "df = pd.read_csv(\"Firm Level Characteristics/Full Sets/signed_predictors_dl_wide.csv\")"
   ]
  },
  {
   "cell_type": "code",
   "execution_count": null,
   "id": "3df70fc5",
   "metadata": {},
   "outputs": [],
   "source": [
    "# Assuming 'df' is your DataFrame and 'date' is the column with date information\n",
    "# Convert the 'date' column to datetime format if it's not already\n",
    "df['date'] = pd.to_datetime(df['yyyymm'])\n",
    "\n",
    "# Sort the DataFrame by the 'date' column for good measure, though not strictly necessary for grouping\n",
    "df.sort_values('date', inplace=True)\n",
    "\n",
    "# Group the DataFrame by year and store each group in a dictionary\n",
    "yearly_dfs = {year: group for year, group in df.groupby(df['date'].dt.year)}\n",
    "\n",
    "# Now, 'yearly_dfs' is a dictionary with years as keys and the corresponding yearly DataFrames as values\n"
   ]
  },
  {
   "cell_type": "code",
   "execution_count": null,
   "id": "97713176",
   "metadata": {},
   "outputs": [],
   "source": [
    "for value in yearly_dfs.items():\n",
    "    value = pd.DataFrame(value)\n",
    "    value.to_csv(str(key)+\"factors.csv\")"
   ]
  },
  {
   "cell_type": "code",
   "execution_count": 23,
   "id": "260820f7",
   "metadata": {},
   "outputs": [],
   "source": [
    "df1 = df[df[\"yyyymm\"]>= 202201]\n",
    "df1 = df1[df1['yyyymm']<=202212]\n",
    "df1.to_csv(\"2022Test.csv\")"
   ]
  },
  {
   "cell_type": "code",
   "execution_count": 24,
   "id": "650c59e8",
   "metadata": {},
   "outputs": [],
   "source": [
    "df2 = df[df[\"yyyymm\"]>= 202301]\n",
    "df2 = df2[df2['yyyymm']<=202312]\n",
    "df2.to_csv(\"2023Test.csv\")"
   ]
  },
  {
   "cell_type": "code",
   "execution_count": null,
   "id": "d16bc5c4",
   "metadata": {},
   "outputs": [],
   "source": []
  }
 ],
 "metadata": {
  "kernelspec": {
   "display_name": "Python 3 (ipykernel)",
   "language": "python",
   "name": "python3"
  },
  "language_info": {
   "codemirror_mode": {
    "name": "ipython",
    "version": 3
   },
   "file_extension": ".py",
   "mimetype": "text/x-python",
   "name": "python",
   "nbconvert_exporter": "python",
   "pygments_lexer": "ipython3",
   "version": "3.11.5"
  }
 },
 "nbformat": 4,
 "nbformat_minor": 5
}
